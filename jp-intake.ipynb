{
 "cells": [
  {
   "cell_type": "code",
   "execution_count": 1,
   "metadata": {},
   "outputs": [],
   "source": [
    "import numpy as np\n",
    "import pandas as pd\n",
    "import matplotlib.pyplot as plt\n",
    "import matplotlib.image as mpimg\n",
    "%matplotlib inline\n",
    "import seaborn as sns"
   ]
  },
  {
   "cell_type": "code",
   "execution_count": 2,
   "metadata": {},
   "outputs": [],
   "source": [
    "df = pd.read_csv('C:/Users/Kaytie/Desktop/School/Regis University/Fall 2021/MSDS 670/Intake.csv')"
   ]
  },
  {
   "cell_type": "code",
   "execution_count": 3,
   "metadata": {},
   "outputs": [
    {
     "data": {
      "text/html": [
       "<div>\n",
       "<style scoped>\n",
       "    .dataframe tbody tr th:only-of-type {\n",
       "        vertical-align: middle;\n",
       "    }\n",
       "\n",
       "    .dataframe tbody tr th {\n",
       "        vertical-align: top;\n",
       "    }\n",
       "\n",
       "    .dataframe thead th {\n",
       "        text-align: right;\n",
       "    }\n",
       "</style>\n",
       "<table border=\"1\" class=\"dataframe\">\n",
       "  <thead>\n",
       "    <tr style=\"text-align: right;\">\n",
       "      <th></th>\n",
       "      <th>OFFENSE_CATEGORY</th>\n",
       "      <th>AGE_AT_INCIDENT</th>\n",
       "      <th>RACE</th>\n",
       "      <th>GENDER</th>\n",
       "      <th>LAW_ENFORCEMENT_AGENCY</th>\n",
       "      <th>FELONY_REVIEW_RESULT</th>\n",
       "      <th>UPDATE_OFFENSE_CATEGORY</th>\n",
       "    </tr>\n",
       "  </thead>\n",
       "  <tbody>\n",
       "    <tr>\n",
       "      <th>0</th>\n",
       "      <td>PROMIS Conversion</td>\n",
       "      <td>25.0</td>\n",
       "      <td>Black</td>\n",
       "      <td>Male</td>\n",
       "      <td>PROMIS Data Conversion</td>\n",
       "      <td>Approved</td>\n",
       "      <td>Homicide</td>\n",
       "    </tr>\n",
       "    <tr>\n",
       "      <th>1</th>\n",
       "      <td>PROMIS Conversion</td>\n",
       "      <td>22.0</td>\n",
       "      <td>Black</td>\n",
       "      <td>Male</td>\n",
       "      <td>PROMIS Data Conversion</td>\n",
       "      <td>Approved</td>\n",
       "      <td>Homicide</td>\n",
       "    </tr>\n",
       "    <tr>\n",
       "      <th>2</th>\n",
       "      <td>PROMIS Conversion</td>\n",
       "      <td>19.0</td>\n",
       "      <td>Black</td>\n",
       "      <td>Male</td>\n",
       "      <td>PROMIS Data Conversion</td>\n",
       "      <td>Approved</td>\n",
       "      <td>Homicide</td>\n",
       "    </tr>\n",
       "    <tr>\n",
       "      <th>3</th>\n",
       "      <td>PROMIS Conversion</td>\n",
       "      <td>NaN</td>\n",
       "      <td>Black</td>\n",
       "      <td>Male</td>\n",
       "      <td>CPD SPEC INV-YOUTH</td>\n",
       "      <td>Charge(S) Approved</td>\n",
       "      <td>Attempt Homicide</td>\n",
       "    </tr>\n",
       "    <tr>\n",
       "      <th>4</th>\n",
       "      <td>PROMIS Conversion</td>\n",
       "      <td>37.0</td>\n",
       "      <td>Hispanic</td>\n",
       "      <td>Male</td>\n",
       "      <td>SPEC. OPERATIONS</td>\n",
       "      <td>NaN</td>\n",
       "      <td>Narcotics</td>\n",
       "    </tr>\n",
       "  </tbody>\n",
       "</table>\n",
       "</div>"
      ],
      "text/plain": [
       "    OFFENSE_CATEGORY  AGE_AT_INCIDENT      RACE GENDER  \\\n",
       "0  PROMIS Conversion             25.0     Black   Male   \n",
       "1  PROMIS Conversion             22.0     Black   Male   \n",
       "2  PROMIS Conversion             19.0     Black   Male   \n",
       "3  PROMIS Conversion              NaN     Black   Male   \n",
       "4  PROMIS Conversion             37.0  Hispanic   Male   \n",
       "\n",
       "   LAW_ENFORCEMENT_AGENCY FELONY_REVIEW_RESULT UPDATE_OFFENSE_CATEGORY  \n",
       "0  PROMIS Data Conversion             Approved                Homicide  \n",
       "1  PROMIS Data Conversion             Approved                Homicide  \n",
       "2  PROMIS Data Conversion             Approved                Homicide  \n",
       "3      CPD SPEC INV-YOUTH   Charge(S) Approved        Attempt Homicide  \n",
       "4        SPEC. OPERATIONS                  NaN               Narcotics  "
      ]
     },
     "execution_count": 3,
     "metadata": {},
     "output_type": "execute_result"
    }
   ],
   "source": [
    "to_drop = ['CASE_ID','CASE_PARTICIPANT_ID','RECEIVED_DATE','PARTICIPANT_STATUS','INCIDENT_CITY','INCIDENT_BEGIN_DATE','INCIDENT_END_DATE','LAW_ENFORCEMENT_UNIT','ARREST_DATE','FELONY_REVIEW_DATE']\n",
    "df.drop(to_drop, inplace = True, axis = 1)\n",
    "df.head(5)"
   ]
  },
  {
   "cell_type": "code",
   "execution_count": 4,
   "metadata": {},
   "outputs": [
    {
     "data": {
      "text/html": [
       "<div>\n",
       "<style scoped>\n",
       "    .dataframe tbody tr th:only-of-type {\n",
       "        vertical-align: middle;\n",
       "    }\n",
       "\n",
       "    .dataframe tbody tr th {\n",
       "        vertical-align: top;\n",
       "    }\n",
       "\n",
       "    .dataframe thead th {\n",
       "        text-align: right;\n",
       "    }\n",
       "</style>\n",
       "<table border=\"1\" class=\"dataframe\">\n",
       "  <thead>\n",
       "    <tr style=\"text-align: right;\">\n",
       "      <th></th>\n",
       "      <th>Offense</th>\n",
       "      <th>Age</th>\n",
       "      <th>Race</th>\n",
       "      <th>Gender</th>\n",
       "      <th>Agency</th>\n",
       "      <th>Review Result</th>\n",
       "      <th>Offense Update</th>\n",
       "    </tr>\n",
       "  </thead>\n",
       "  <tbody>\n",
       "    <tr>\n",
       "      <th>0</th>\n",
       "      <td>PROMIS Conversion</td>\n",
       "      <td>25.0</td>\n",
       "      <td>Black</td>\n",
       "      <td>Male</td>\n",
       "      <td>PROMIS Data Conversion</td>\n",
       "      <td>Approved</td>\n",
       "      <td>Homicide</td>\n",
       "    </tr>\n",
       "    <tr>\n",
       "      <th>1</th>\n",
       "      <td>PROMIS Conversion</td>\n",
       "      <td>22.0</td>\n",
       "      <td>Black</td>\n",
       "      <td>Male</td>\n",
       "      <td>PROMIS Data Conversion</td>\n",
       "      <td>Approved</td>\n",
       "      <td>Homicide</td>\n",
       "    </tr>\n",
       "    <tr>\n",
       "      <th>2</th>\n",
       "      <td>PROMIS Conversion</td>\n",
       "      <td>19.0</td>\n",
       "      <td>Black</td>\n",
       "      <td>Male</td>\n",
       "      <td>PROMIS Data Conversion</td>\n",
       "      <td>Approved</td>\n",
       "      <td>Homicide</td>\n",
       "    </tr>\n",
       "    <tr>\n",
       "      <th>3</th>\n",
       "      <td>PROMIS Conversion</td>\n",
       "      <td>NaN</td>\n",
       "      <td>Black</td>\n",
       "      <td>Male</td>\n",
       "      <td>CPD SPEC INV-YOUTH</td>\n",
       "      <td>Charge(S) Approved</td>\n",
       "      <td>Attempt Homicide</td>\n",
       "    </tr>\n",
       "    <tr>\n",
       "      <th>4</th>\n",
       "      <td>PROMIS Conversion</td>\n",
       "      <td>37.0</td>\n",
       "      <td>Hispanic</td>\n",
       "      <td>Male</td>\n",
       "      <td>SPEC. OPERATIONS</td>\n",
       "      <td>NaN</td>\n",
       "      <td>Narcotics</td>\n",
       "    </tr>\n",
       "  </tbody>\n",
       "</table>\n",
       "</div>"
      ],
      "text/plain": [
       "             Offense   Age      Race Gender                  Agency  \\\n",
       "0  PROMIS Conversion  25.0     Black   Male  PROMIS Data Conversion   \n",
       "1  PROMIS Conversion  22.0     Black   Male  PROMIS Data Conversion   \n",
       "2  PROMIS Conversion  19.0     Black   Male  PROMIS Data Conversion   \n",
       "3  PROMIS Conversion   NaN     Black   Male      CPD SPEC INV-YOUTH   \n",
       "4  PROMIS Conversion  37.0  Hispanic   Male        SPEC. OPERATIONS   \n",
       "\n",
       "        Review Result    Offense Update  \n",
       "0            Approved          Homicide  \n",
       "1            Approved          Homicide  \n",
       "2            Approved          Homicide  \n",
       "3  Charge(S) Approved  Attempt Homicide  \n",
       "4                 NaN         Narcotics  "
      ]
     },
     "execution_count": 4,
     "metadata": {},
     "output_type": "execute_result"
    }
   ],
   "source": [
    "new_name = {'OFFENSE_CATEGORY': 'Offense',\n",
    "           'AGE_AT_INCIDENT': 'Age',\n",
    "           'RACE': 'Race',\n",
    "           'GENDER': 'Gender',\n",
    "           'LAW_ENFORCEMENT_AGENCY': 'Agency',\n",
    "           'FELONY_REVIEW_RESULT': 'Review Result',\n",
    "           'UPDATE_OFFENSE_CATEGORY': 'Offense Update'}\n",
    "df.rename(columns=new_name, inplace = True)\n",
    "df.head()"
   ]
  },
  {
   "cell_type": "code",
   "execution_count": 5,
   "metadata": {},
   "outputs": [
    {
     "data": {
      "text/plain": [
       "Index(['Offense', 'Age', 'Race', 'Gender', 'Agency', 'Review Result',\n",
       "       'Offense Update'],\n",
       "      dtype='object')"
      ]
     },
     "execution_count": 5,
     "metadata": {},
     "output_type": "execute_result"
    }
   ],
   "source": [
    "df.columns"
   ]
  },
  {
   "cell_type": "code",
   "execution_count": 6,
   "metadata": {},
   "outputs": [
    {
     "data": {
      "text/plain": [
       "(429724, 7)"
      ]
     },
     "execution_count": 6,
     "metadata": {},
     "output_type": "execute_result"
    }
   ],
   "source": [
    "\n",
    "df.shape"
   ]
  },
  {
   "cell_type": "code",
   "execution_count": 7,
   "metadata": {},
   "outputs": [],
   "source": [
    "df2 = df.copy()"
   ]
  },
  {
   "cell_type": "code",
   "execution_count": 8,
   "metadata": {},
   "outputs": [
    {
     "data": {
      "text/plain": [
       "(429724, 7)"
      ]
     },
     "execution_count": 8,
     "metadata": {},
     "output_type": "execute_result"
    }
   ],
   "source": [
    "df2.shape"
   ]
  },
  {
   "cell_type": "code",
   "execution_count": 9,
   "metadata": {},
   "outputs": [
    {
     "name": "stdout",
     "output_type": "stream",
     "text": [
      "<class 'pandas.core.frame.DataFrame'>\n",
      "RangeIndex: 429724 entries, 0 to 429723\n",
      "Data columns (total 7 columns):\n",
      " #   Column          Non-Null Count   Dtype  \n",
      "---  ------          --------------   -----  \n",
      " 0   Offense         429724 non-null  object \n",
      " 1   Age             407695 non-null  float64\n",
      " 2   Race            416498 non-null  object \n",
      " 3   Gender          418512 non-null  object \n",
      " 4   Agency          412059 non-null  object \n",
      " 5   Review Result   251224 non-null  object \n",
      " 6   Offense Update  429724 non-null  object \n",
      "dtypes: float64(1), object(6)\n",
      "memory usage: 22.9+ MB\n"
     ]
    }
   ],
   "source": [
    "df2.info()"
   ]
  },
  {
   "cell_type": "code",
   "execution_count": 10,
   "metadata": {},
   "outputs": [
    {
     "data": {
      "text/plain": [
       "(229552, 7)"
      ]
     },
     "execution_count": 10,
     "metadata": {},
     "output_type": "execute_result"
    }
   ],
   "source": [
    "df2.dropna(inplace=True)\n",
    "df2.shape"
   ]
  },
  {
   "cell_type": "code",
   "execution_count": 11,
   "metadata": {},
   "outputs": [
    {
     "data": {
      "text/plain": [
       "UUW - Unlawful Use of Weapon                 40151\n",
       "Retail Theft                                 28943\n",
       "Burglary                                     14742\n",
       "Aggravated DUI                               14692\n",
       "Driving With Suspended Or Revoked License    10565\n",
       "                                             ...  \n",
       "Violate Bail Bond                               19\n",
       "Perjury                                         18\n",
       "Failure To Pay Child Support                    11\n",
       "Possession of Explosives                         6\n",
       "PROMIS Conversion                                4\n",
       "Name: Offense, Length: 86, dtype: int64"
      ]
     },
     "execution_count": 11,
     "metadata": {},
     "output_type": "execute_result"
    }
   ],
   "source": [
    "df2['Offense'].value_counts()"
   ]
  },
  {
   "cell_type": "code",
   "execution_count": 12,
   "metadata": {},
   "outputs": [
    {
     "data": {
      "text/plain": [
       "Narcotics       162404\n",
       "Retail Theft     31952\n",
       "Burglary         16374\n",
       "Homicide          5098\n",
       "Name: Offense, dtype: int64"
      ]
     },
     "execution_count": 12,
     "metadata": {},
     "output_type": "execute_result"
    }
   ],
   "source": [
    "df2 = df[(df['Offense'] == 'Burglary') | (df['Offense'] == 'Retail Theft') | (df['Offense'] == 'Narcotics') | (df['Offense'] == 'Homicide')].copy()\n",
    "df2['Offense'].value_counts()"
   ]
  },
  {
   "cell_type": "code",
   "execution_count": 13,
   "metadata": {},
   "outputs": [
    {
     "data": {
      "text/plain": [
       "Black                               147286\n",
       "White                                34134\n",
       "White [Hispanic or Latino]           26088\n",
       "Hispanic                              2142\n",
       "Asian                                 1375\n",
       "White/Black [Hispanic or Latino]      1073\n",
       "Unknown                                390\n",
       "American Indian                         95\n",
       "Biracial                                41\n",
       "ASIAN                                    2\n",
       "CAUCASIAN                                1\n",
       "Name: Race, dtype: int64"
      ]
     },
     "execution_count": 13,
     "metadata": {},
     "output_type": "execute_result"
    }
   ],
   "source": [
    "df2['Race'].value_counts()\n"
   ]
  },
  {
   "cell_type": "code",
   "execution_count": 14,
   "metadata": {},
   "outputs": [
    {
     "data": {
      "text/plain": [
       "Black              276552\n",
       "White               61802\n",
       "Hispanic            11016\n",
       "Asian                2888\n",
       "American Indian       184\n",
       "Name: Race, dtype: int64"
      ]
     },
     "execution_count": 14,
     "metadata": {},
     "output_type": "execute_result"
    }
   ],
   "source": [
    "df2 = df[(df['Race'] == 'Black') | (df['Race'] == 'White') | (df['Race'] == 'Hispanic') | (df['Race'] == 'Asian') | (df['Race'] == 'American Indian')].copy()\n",
    "df2['Race'].value_counts()"
   ]
  },
  {
   "cell_type": "code",
   "execution_count": 16,
   "metadata": {},
   "outputs": [
    {
     "data": {
      "text/plain": [
       "Approved                                      159646\n",
       "Rejected                                       24781\n",
       "Continued Investigation                        10101\n",
       "Victim Sensitive Interview                      2653\n",
       "Felony Review                                   2530\n",
       "Advice                                           502\n",
       "Disregard                                        419\n",
       "Warr Ord Warr Issued                              37\n",
       "Arrest Warrant                                    37\n",
       "VICTIM SENSITIVE INT                              36\n",
       "Warrant Exec                                      24\n",
       "Deputy Override                                   22\n",
       "Search Warrant                                    15\n",
       "Chief Judge Assignment To Felony Courtroom        14\n",
       "Screen Felony                                      5\n",
       "Charge(S) Approved                                 2\n",
       "Name: Review Result, dtype: int64"
      ]
     },
     "execution_count": 16,
     "metadata": {},
     "output_type": "execute_result"
    }
   ],
   "source": [
    "df2['Review Result'].value_counts()"
   ]
  },
  {
   "cell_type": "code",
   "execution_count": 17,
   "metadata": {},
   "outputs": [
    {
     "data": {
      "text/plain": [
       "Approved                   197888\n",
       "Rejected                    31183\n",
       "Continued Investigation     12676\n",
       "Name: Review Result, dtype: int64"
      ]
     },
     "execution_count": 17,
     "metadata": {},
     "output_type": "execute_result"
    }
   ],
   "source": [
    "df2 = df[(df['Review Result'] == 'Approved') | (df['Review Result'] == 'Rejected') | (df['Review Result'] == 'Continued Investigation')].copy()\n",
    "df2['Review Result'].value_counts()"
   ]
  },
  {
   "cell_type": "code",
   "execution_count": 18,
   "metadata": {},
   "outputs": [
    {
     "data": {
      "text/plain": [
       "UUW - Unlawful Use of Weapon                 41496\n",
       "Retail Theft                                 30106\n",
       "Aggravated DUI                               19455\n",
       "Burglary                                     14343\n",
       "Driving With Suspended Or Revoked License    11445\n",
       "                                             ...  \n",
       "Failure To Pay Child Support                     5\n",
       "Violate Bail Bond                                4\n",
       "Police Shooting                                  3\n",
       "Possession of Explosives                         2\n",
       "Aggravated Battery Police Officer Firearm        1\n",
       "Name: Offense Update, Length: 85, dtype: int64"
      ]
     },
     "execution_count": 18,
     "metadata": {},
     "output_type": "execute_result"
    }
   ],
   "source": [
    "df2['Offense Update'].value_counts()"
   ]
  },
  {
   "cell_type": "code",
   "execution_count": 19,
   "metadata": {},
   "outputs": [
    {
     "data": {
      "text/plain": [
       "Narcotics       165011\n",
       "Retail Theft     31649\n",
       "Burglary         15427\n",
       "Homicide          5023\n",
       "Name: Offense Update, dtype: int64"
      ]
     },
     "execution_count": 19,
     "metadata": {},
     "output_type": "execute_result"
    }
   ],
   "source": [
    "df2 = df[(df['Offense Update'] == 'Burglary') | (df['Offense Update'] == 'Retail Theft') | (df['Offense Update'] == 'Narcotics') | (df['Offense Update'] == 'Homicide')].copy()\n",
    "df2['Offense Update'].value_counts()"
   ]
  },
  {
   "cell_type": "code",
   "execution_count": 20,
   "metadata": {},
   "outputs": [
    {
     "data": {
      "text/plain": [
       "Narcotics       162404\n",
       "Retail Theft     31952\n",
       "Burglary         16374\n",
       "Homicide          5098\n",
       "Name: Offense, dtype: int64"
      ]
     },
     "execution_count": 20,
     "metadata": {},
     "output_type": "execute_result"
    }
   ],
   "source": [
    "df2 = df[(df['Offense'] == 'Burglary') | (df['Offense'] == 'Retail Theft') | (df['Offense'] == 'Narcotics') | (df['Offense'] == 'Homicide')].copy()\n",
    "df2['Offense'].value_counts()"
   ]
  },
  {
   "cell_type": "code",
   "execution_count": 21,
   "metadata": {},
   "outputs": [
    {
     "name": "stderr",
     "output_type": "stream",
     "text": [
      "C:\\Users\\Kaytie\\anaconda3\\lib\\site-packages\\seaborn\\_decorators.py:36: FutureWarning: Pass the following variable as a keyword arg: x. From version 0.12, the only valid positional argument will be `data`, and passing other arguments without an explicit keyword will result in an error or misinterpretation.\n",
      "  warnings.warn(\n"
     ]
    },
    {
     "data": {
      "text/plain": [
       "<AxesSubplot:xlabel='Offense', ylabel='count'>"
      ]
     },
     "execution_count": 21,
     "metadata": {},
     "output_type": "execute_result"
    },
    {
     "data": {
      "image/png": "[encoded data removed]",
      "text/plain": [
       "<Figure size 432x288 with 1 Axes>"
      ]
     },
     "metadata": {
      "needs_background": "light"
     },
     "output_type": "display_data"
    }
   ],
   "source": [
    "sns.countplot(df2['Offense'])"
   ]
  },
  {
   "cell_type": "code",
   "execution_count": 22,
   "metadata": {},
   "outputs": [
    {
     "data": {
      "text/plain": [
       "Narcotics       165011\n",
       "Retail Theft     31649\n",
       "Burglary         15427\n",
       "Homicide          5023\n",
       "Name: Offense Update, dtype: int64"
      ]
     },
     "execution_count": 22,
     "metadata": {},
     "output_type": "execute_result"
    }
   ],
   "source": [
    "df2 = df[(df['Offense Update'] == 'Burglary') | (df['Offense Update'] == 'Retail Theft') | (df['Offense Update'] == 'Narcotics') | (df['Offense Update'] == 'Homicide')].copy()\n",
    "df2['Offense Update'].value_counts()"
   ]
  },
  {
   "cell_type": "code",
   "execution_count": 24,
   "metadata": {},
   "outputs": [
    {
     "data": {
      "text/plain": [
       "Black              276552\n",
       "White               61802\n",
       "Hispanic            11016\n",
       "Asian                2888\n",
       "American Indian       184\n",
       "Name: Race, dtype: int64"
      ]
     },
     "execution_count": 24,
     "metadata": {},
     "output_type": "execute_result"
    }
   ],
   "source": [
    "categorical = ['Race']\n",
    "df2 = df[(df['Race'] == 'Black') | (df['Race'] == 'White') | (df['Race'] == 'Hispanic') | (df['Race'] == 'Asian') | (df['Race'] == 'American Indian')].copy()\n",
    "df2['Race'].value_counts()\n"
   ]
  },
  {
   "cell_type": "code",
   "execution_count": 25,
   "metadata": {},
   "outputs": [
    {
     "data": {
      "text/plain": [
       "<AxesSubplot:xlabel='Race', ylabel='Age'>"
      ]
     },
     "execution_count": 25,
     "metadata": {},
     "output_type": "execute_result"
    },
    {
     "data": {
      "image/png": "[encoded data removed]",
      "text/plain": [
       "<Figure size 432x288 with 1 Axes>"
      ]
     },
     "metadata": {
      "needs_background": "light"
     },
     "output_type": "display_data"
    }
   ],
   "source": [
    "sorted_ou = df2.groupby(['Race'])['Age'].median().sort_values()\n",
    "sns.boxplot(x=df2['Race'],y=df2['Age'], order=list(sorted_ou.index))"
   ]
  },
  {
   "cell_type": "code",
   "execution_count": 26,
   "metadata": {},
   "outputs": [
    {
     "name": "stdout",
     "output_type": "stream",
     "text": [
      "Gender\n",
      "Female                         50185\n",
      "Male                          302020\n",
      "Male name, no gender given        12\n",
      "Unknown                           27\n",
      "dtype: int64\n"
     ]
    },
    {
     "data": {
      "text/plain": [
       "(array([-0.5,  0. ,  0.5,  1. ,  1.5,  2. ,  2.5,  3. ,  3.5]),\n",
       " [Text(-0.5, 0, ''),\n",
       "  Text(0.0, 0, 'Female'),\n",
       "  Text(0.5, 0, ''),\n",
       "  Text(1.0, 0, 'Male'),\n",
       "  Text(1.5, 0, ''),\n",
       "  Text(2.0, 0, 'Male name, no gender given'),\n",
       "  Text(2.5, 0, ''),\n",
       "  Text(3.0, 0, 'Unknown'),\n",
       "  Text(3.5, 0, '')])"
      ]
     },
     "execution_count": 26,
     "metadata": {},
     "output_type": "execute_result"
    },
    {
     "data": {
      "image/png": "[encoded data removed]",
      "text/plain": [
       "<Figure size 432x288 with 1 Axes>"
      ]
     },
     "metadata": {
      "needs_background": "light"
     },
     "output_type": "display_data"
    }
   ],
   "source": [
    "plot_by_offense = df2.groupby('Gender').size()\n",
    "print(plot_by_offense)\n",
    "plot_by_offense = plot_by_offense.plot(title='Total Number of Offenses grouped by Gender')\n",
    "plot_by_offense.set_xlabel('Offenses')\n",
    "plot_by_offense.set_ylabel('Count')\n",
    "plt.xticks(rotation='vertical')"
   ]
  },
  {
   "cell_type": "code",
   "execution_count": 27,
   "metadata": {},
   "outputs": [
    {
     "data": {
      "text/plain": [
       "Narcotics       162404\n",
       "Retail Theft     31952\n",
       "Burglary         16374\n",
       "Homicide          5098\n",
       "Name: Offense, dtype: int64"
      ]
     },
     "execution_count": 27,
     "metadata": {},
     "output_type": "execute_result"
    }
   ],
   "source": [
    "df2 = df[(df['Offense'] == 'Burglary') | (df['Offense'] == 'Retail Theft') | (df['Offense'] == 'Narcotics') | (df['Offense'] == 'Homicide')].copy()\n",
    "df2['Offense'].value_counts()"
   ]
  },
  {
   "cell_type": "code",
   "execution_count": 28,
   "metadata": {
    "scrolled": true
   },
   "outputs": [
    {
     "data": {
      "text/plain": [
       "<AxesSubplot:xlabel='Offense', ylabel='Age'>"
      ]
     },
     "execution_count": 28,
     "metadata": {},
     "output_type": "execute_result"
    },
    {
     "data": {
      "image/png": "[encoded data removed]",
      "text/plain": [
       "<Figure size 432x288 with 1 Axes>"
      ]
     },
     "metadata": {
      "needs_background": "light"
     },
     "output_type": "display_data"
    }
   ],
   "source": [
    "sorted_ou = df2.groupby(['Offense'])['Age'].median().sort_values()\n",
    "sns.boxplot(x=df2['Offense'],y=df2['Age'], order=list(sorted_ou.index))"
   ]
  },
  {
   "cell_type": "code",
   "execution_count": 30,
   "metadata": {},
   "outputs": [
    {
     "data": {
      "text/plain": [
       "Approved                                      38673\n",
       "Rejected                                      10223\n",
       "Continued Investigation                        2636\n",
       "Felony Review                                   685\n",
       "Advice                                           96\n",
       "Disregard                                        91\n",
       "Victim Sensitive Interview                       16\n",
       "Warr Ord Warr Issued                             15\n",
       "Arrest Warrant                                   14\n",
       "Chief Judge Assignment To Felony Courtroom       11\n",
       "Deputy Override                                   7\n",
       "Warrant Exec                                      6\n",
       "VICTIM SENSITIVE INT                              2\n",
       "Search Warrant                                    2\n",
       "Screen Felony                                     1\n",
       "Name: Review Result, dtype: int64"
      ]
     },
     "execution_count": 30,
     "metadata": {},
     "output_type": "execute_result"
    }
   ],
   "source": [
    "df4 = df[(df['Review Result'] == 'Approved') | (df['Review Result'] == 'Rejected') | (df['Review Result'] == 'Continued Investigation')].copy()\n",
    "df2['Review Result'].value_counts()"
   ]
  },
  {
   "cell_type": "code",
   "execution_count": 31,
   "metadata": {},
   "outputs": [
    {
     "data": {
      "text/plain": [
       "<AxesSubplot:xlabel='Review Result', ylabel='Age'>"
      ]
     },
     "execution_count": 31,
     "metadata": {},
     "output_type": "execute_result"
    },
    {
     "data": {
      "image/png": "[encoded data removed]",
      "text/plain": [
       "<Figure size 432x288 with 1 Axes>"
      ]
     },
     "metadata": {
      "needs_background": "light"
     },
     "output_type": "display_data"
    }
   ],
   "source": [
    "sorted_ou = df4.groupby(['Review Result'])['Age'].median().sort_values()\n",
    "sns.boxplot(x=df4['Review Result'],y=df4['Age'], order=list(sorted_ou.index))"
   ]
  },
  {
   "cell_type": "code",
   "execution_count": 32,
   "metadata": {},
   "outputs": [
    {
     "data": {
      "text/plain": [
       "Narcotics       162404\n",
       "Retail Theft     31952\n",
       "Burglary         16374\n",
       "Homicide          5098\n",
       "Name: Offense, dtype: int64"
      ]
     },
     "execution_count": 32,
     "metadata": {},
     "output_type": "execute_result"
    }
   ],
   "source": [
    "df2 = df[(df['Offense'] == 'Burglary') | (df['Offense'] == 'Retail Theft') | (df['Offense'] == 'Narcotics') | (df['Offense'] == 'Homicide')].copy()\n",
    "df2['Offense'].value_counts()"
   ]
  },
  {
   "cell_type": "code",
   "execution_count": 33,
   "metadata": {
    "scrolled": true
   },
   "outputs": [
    {
     "data": {
      "text/plain": [
       "Black                               147286\n",
       "White                                34134\n",
       "White [Hispanic or Latino]           26088\n",
       "Hispanic                              2142\n",
       "Asian                                 1375\n",
       "White/Black [Hispanic or Latino]      1073\n",
       "Unknown                                390\n",
       "American Indian                         95\n",
       "Biracial                                41\n",
       "ASIAN                                    2\n",
       "CAUCASIAN                                1\n",
       "Name: Race, dtype: int64"
      ]
     },
     "execution_count": 33,
     "metadata": {},
     "output_type": "execute_result"
    }
   ],
   "source": [
    "df3 = df[(df['Race'] == 'Black') | (df['Race'] == 'White') | (df['Race'] == 'Hispanic') | (df['Race'] == 'Asian') | (df['Race'] == 'American Indian')].copy()\n",
    "df2['Race'].value_counts()"
   ]
  },
  {
   "cell_type": "code",
   "execution_count": 34,
   "metadata": {},
   "outputs": [
    {
     "data": {
      "text/plain": [
       "Race                              Offense     \n",
       "ASIAN                             Homicide             1\n",
       "                                  Retail Theft         1\n",
       "American Indian                   Burglary            14\n",
       "                                  Homicide             4\n",
       "                                  Narcotics           49\n",
       "                                  Retail Theft        28\n",
       "Asian                             Burglary           118\n",
       "                                  Homicide            20\n",
       "                                  Narcotics          932\n",
       "                                  Retail Theft       305\n",
       "Biracial                          Burglary             2\n",
       "                                  Narcotics           15\n",
       "                                  Retail Theft        24\n",
       "Black                             Burglary          9487\n",
       "                                  Homicide          3738\n",
       "                                  Narcotics       113464\n",
       "                                  Retail Theft     20597\n",
       "CAUCASIAN                         Retail Theft         1\n",
       "Hispanic                          Burglary           301\n",
       "                                  Homicide           138\n",
       "                                  Narcotics          599\n",
       "                                  Retail Theft      1104\n",
       "Unknown                           Burglary            16\n",
       "                                  Homicide             5\n",
       "                                  Narcotics          291\n",
       "                                  Retail Theft        78\n",
       "White                             Burglary          3318\n",
       "                                  Homicide           303\n",
       "                                  Narcotics        24432\n",
       "                                  Retail Theft      6081\n",
       "White [Hispanic or Latino]        Burglary          2603\n",
       "                                  Homicide           644\n",
       "                                  Narcotics        20796\n",
       "                                  Retail Theft      2045\n",
       "White/Black [Hispanic or Latino]  Burglary           140\n",
       "                                  Homicide            21\n",
       "                                  Narcotics          814\n",
       "                                  Retail Theft        98\n",
       "dtype: int64"
      ]
     },
     "execution_count": 34,
     "metadata": {},
     "output_type": "execute_result"
    }
   ],
   "source": [
    "grouped = df2.groupby(['Race','Offense'])\n",
    "grouped.size()"
   ]
  },
  {
   "cell_type": "code",
   "execution_count": 35,
   "metadata": {},
   "outputs": [
    {
     "data": {
      "text/html": [
       "<div>\n",
       "<style scoped>\n",
       "    .dataframe tbody tr th:only-of-type {\n",
       "        vertical-align: middle;\n",
       "    }\n",
       "\n",
       "    .dataframe tbody tr th {\n",
       "        vertical-align: top;\n",
       "    }\n",
       "\n",
       "    .dataframe thead th {\n",
       "        text-align: right;\n",
       "    }\n",
       "</style>\n",
       "<table border=\"1\" class=\"dataframe\">\n",
       "  <thead>\n",
       "    <tr style=\"text-align: right;\">\n",
       "      <th>Gender</th>\n",
       "      <th>Female</th>\n",
       "      <th>Male</th>\n",
       "      <th>Male name, no gender given</th>\n",
       "      <th>Unknown</th>\n",
       "    </tr>\n",
       "    <tr>\n",
       "      <th>Offense</th>\n",
       "      <th></th>\n",
       "      <th></th>\n",
       "      <th></th>\n",
       "      <th></th>\n",
       "    </tr>\n",
       "  </thead>\n",
       "  <tbody>\n",
       "    <tr>\n",
       "      <th>Burglary</th>\n",
       "      <td>984</td>\n",
       "      <td>15066</td>\n",
       "      <td>0</td>\n",
       "      <td>2</td>\n",
       "    </tr>\n",
       "    <tr>\n",
       "      <th>Homicide</th>\n",
       "      <td>386</td>\n",
       "      <td>4510</td>\n",
       "      <td>0</td>\n",
       "      <td>0</td>\n",
       "    </tr>\n",
       "    <tr>\n",
       "      <th>Narcotics</th>\n",
       "      <td>22097</td>\n",
       "      <td>139467</td>\n",
       "      <td>3</td>\n",
       "      <td>6</td>\n",
       "    </tr>\n",
       "    <tr>\n",
       "      <th>Retail Theft</th>\n",
       "      <td>8882</td>\n",
       "      <td>21716</td>\n",
       "      <td>3</td>\n",
       "      <td>4</td>\n",
       "    </tr>\n",
       "  </tbody>\n",
       "</table>\n",
       "</div>"
      ],
      "text/plain": [
       "Gender        Female    Male  Male name, no gender given  Unknown\n",
       "Offense                                                          \n",
       "Burglary         984   15066                           0        2\n",
       "Homicide         386    4510                           0        0\n",
       "Narcotics      22097  139467                           3        6\n",
       "Retail Theft    8882   21716                           3        4"
      ]
     },
     "execution_count": 35,
     "metadata": {},
     "output_type": "execute_result"
    }
   ],
   "source": [
    "g_offense = pd.crosstab(index=df2[\"Offense\"],\n",
    "                          columns=df2[\"Gender\"])\n",
    "g_offense"
   ]
  },
  {
   "cell_type": "code",
   "execution_count": 36,
   "metadata": {},
   "outputs": [
    {
     "data": {
      "text/plain": [
       "(array([0, 1, 2, 3]),\n",
       " [Text(0, 0, 'Burglary'),\n",
       "  Text(1, 0, 'Homicide'),\n",
       "  Text(2, 0, 'Narcotics'),\n",
       "  Text(3, 0, 'Retail Theft')])"
      ]
     },
     "execution_count": 36,
     "metadata": {},
     "output_type": "execute_result"
    },
    {
     "data": {
      "image/png": "[encoded data removed]",
      "text/plain": [
       "<Figure size 576x576 with 1 Axes>"
      ]
     },
     "metadata": {
      "needs_background": "light"
     },
     "output_type": "display_data"
    }
   ],
   "source": [
    "g_offense.plot(title='Top Four Offenses Committed by Gender',\n",
    "                  kind=\"bar\",\n",
    "                  xlabel=\"Offense\",\n",
    "                  ylabel=\"Count\",\n",
    "                       figsize=(8,8),\n",
    "                        stacked=True)\n",
    "plt.xticks(rotation='vertical')"
   ]
  },
  {
   "cell_type": "code",
   "execution_count": 37,
   "metadata": {},
   "outputs": [
    {
     "data": {
      "text/html": [
       "<div>\n",
       "<style scoped>\n",
       "    .dataframe tbody tr th:only-of-type {\n",
       "        vertical-align: middle;\n",
       "    }\n",
       "\n",
       "    .dataframe tbody tr th {\n",
       "        vertical-align: top;\n",
       "    }\n",
       "\n",
       "    .dataframe thead th {\n",
       "        text-align: right;\n",
       "    }\n",
       "</style>\n",
       "<table border=\"1\" class=\"dataframe\">\n",
       "  <thead>\n",
       "    <tr style=\"text-align: right;\">\n",
       "      <th>Race</th>\n",
       "      <th>American Indian</th>\n",
       "      <th>Asian</th>\n",
       "      <th>Black</th>\n",
       "      <th>Hispanic</th>\n",
       "      <th>White</th>\n",
       "    </tr>\n",
       "    <tr>\n",
       "      <th>Offense</th>\n",
       "      <th></th>\n",
       "      <th></th>\n",
       "      <th></th>\n",
       "      <th></th>\n",
       "      <th></th>\n",
       "    </tr>\n",
       "  </thead>\n",
       "  <tbody>\n",
       "    <tr>\n",
       "      <th>Burglary</th>\n",
       "      <td>14</td>\n",
       "      <td>118</td>\n",
       "      <td>9487</td>\n",
       "      <td>301</td>\n",
       "      <td>3318</td>\n",
       "    </tr>\n",
       "    <tr>\n",
       "      <th>Homicide</th>\n",
       "      <td>4</td>\n",
       "      <td>20</td>\n",
       "      <td>3738</td>\n",
       "      <td>138</td>\n",
       "      <td>303</td>\n",
       "    </tr>\n",
       "    <tr>\n",
       "      <th>Narcotics</th>\n",
       "      <td>49</td>\n",
       "      <td>932</td>\n",
       "      <td>113464</td>\n",
       "      <td>599</td>\n",
       "      <td>24432</td>\n",
       "    </tr>\n",
       "    <tr>\n",
       "      <th>Retail Theft</th>\n",
       "      <td>28</td>\n",
       "      <td>305</td>\n",
       "      <td>20597</td>\n",
       "      <td>1104</td>\n",
       "      <td>6081</td>\n",
       "    </tr>\n",
       "  </tbody>\n",
       "</table>\n",
       "</div>"
      ],
      "text/plain": [
       "Race          American Indian  Asian   Black  Hispanic  White\n",
       "Offense                                                      \n",
       "Burglary                   14    118    9487       301   3318\n",
       "Homicide                    4     20    3738       138    303\n",
       "Narcotics                  49    932  113464       599  24432\n",
       "Retail Theft               28    305   20597      1104   6081"
      ]
     },
     "execution_count": 37,
     "metadata": {},
     "output_type": "execute_result"
    }
   ],
   "source": [
    "race_offense = pd.crosstab(index=df2[\"Offense\"],\n",
    "                          columns=df3[\"Race\"])\n",
    "race_offense"
   ]
  },
  {
   "cell_type": "code",
   "execution_count": 39,
   "metadata": {},
   "outputs": [
    {
     "data": {
      "text/plain": [
       "<AxesSubplot:title={'center':'Top Offenses Committed by Race'}, xlabel='Offense', ylabel='Count'>"
      ]
     },
     "execution_count": 39,
     "metadata": {},
     "output_type": "execute_result"
    },
    {
     "data": {
      "image/png": "[encoded data removed]",
      "text/plain": [
       "<Figure size 576x576 with 1 Axes>"
      ]
     },
     "metadata": {
      "needs_background": "light"
     },
     "output_type": "display_data"
    }
   ],
   "source": [
    "race_offense.plot(title='Top Four Offenses Committed by Race',\n",
    "                  kind=\"bar\",\n",
    "                  xlabel=\"Offense\",\n",
    "                  ylabel=\"Count\",\n",
    "                       figsize=(8,8),\n",
    "                        stacked=True)"
   ]
  },
  {
   "cell_type": "code",
   "execution_count": 41,
   "metadata": {},
   "outputs": [
    {
     "name": "stdout",
     "output_type": "stream",
     "text": [
      "Race\n",
      "American Indian       184\n",
      "Asian                2888\n",
      "Black              276552\n",
      "Hispanic            11016\n",
      "White               61802\n",
      "dtype: int64\n"
     ]
    },
    {
     "data": {
      "text/plain": [
       "(array([-0.5,  0. ,  0.5,  1. ,  1.5,  2. ,  2.5,  3. ,  3.5,  4. ,  4.5]),\n",
       " [Text(-0.5, 0, ''),\n",
       "  Text(0.0, 0, 'American Indian'),\n",
       "  Text(0.5, 0, ''),\n",
       "  Text(1.0, 0, 'Asian'),\n",
       "  Text(1.5, 0, ''),\n",
       "  Text(2.0, 0, 'Black'),\n",
       "  Text(2.5, 0, ''),\n",
       "  Text(3.0, 0, 'Hispanic'),\n",
       "  Text(3.5, 0, ''),\n",
       "  Text(4.0, 0, 'White'),\n",
       "  Text(4.5, 0, '')])"
      ]
     },
     "execution_count": 41,
     "metadata": {},
     "output_type": "execute_result"
    },
    {
     "data": {
      "image/png": "[encoded data removed]",
      "text/plain": [
       "<Figure size 432x288 with 1 Axes>"
      ]
     },
     "metadata": {
      "needs_background": "light"
     },
     "output_type": "display_data"
    }
   ],
   "source": [
    "plot_by_offense = df3.groupby('Race').size()\n",
    "print(plot_by_offense)\n",
    "plot_by_offense = plot_by_offense.plot(title='Total number of Offenses grouped by Race')\n",
    "plot_by_offense.set_xlabel('Offenses')\n",
    "plot_by_offense.set_ylabel('Count')\n",
    "plt.xticks(rotation='vertical')"
   ]
  },
  {
   "cell_type": "code",
   "execution_count": 43,
   "metadata": {},
   "outputs": [
    {
     "name": "stdout",
     "output_type": "stream",
     "text": [
      "Review Result\n",
      "Approved                   197888\n",
      "Continued Investigation     12676\n",
      "Rejected                    31183\n",
      "dtype: int64\n"
     ]
    },
    {
     "data": {
      "text/plain": [
       "(array([-0.25,  0.  ,  0.25,  0.5 ,  0.75,  1.  ,  1.25,  1.5 ,  1.75,\n",
       "         2.  ,  2.25]),\n",
       " [Text(-0.25, 0, ''),\n",
       "  Text(0.0, 0, 'Approved'),\n",
       "  Text(0.25, 0, ''),\n",
       "  Text(0.5, 0, ''),\n",
       "  Text(0.75, 0, ''),\n",
       "  Text(1.0, 0, 'Continued Investigation'),\n",
       "  Text(1.25, 0, ''),\n",
       "  Text(1.5, 0, ''),\n",
       "  Text(1.75, 0, ''),\n",
       "  Text(2.0, 0, 'Rejected'),\n",
       "  Text(2.25, 0, '')])"
      ]
     },
     "execution_count": 43,
     "metadata": {},
     "output_type": "execute_result"
    },
    {
     "data": {
      "image/png": "[encoded data removed]",
      "text/plain": [
       "<Figure size 432x288 with 1 Axes>"
      ]
     },
     "metadata": {
      "needs_background": "light"
     },
     "output_type": "display_data"
    }
   ],
   "source": [
    "plot_by_offense = df4.groupby('Review Result').size()\n",
    "print(plot_by_offense)\n",
    "plot_by_offense = plot_by_offense.plot(title='Results of Convicted Offenders')\n",
    "plot_by_offense.set_xlabel('Result')\n",
    "plot_by_offense.set_ylabel('Count')\n",
    "plt.xticks(rotation='horizontal')"
   ]
  },
  {
   "cell_type": "code",
   "execution_count": null,
   "metadata": {},
   "outputs": [],
   "source": []
  }
 ],
 "metadata": {
  "kernelspec": {
   "display_name": "Python 3",
   "language": "python",
   "name": "python3"
  },
  "language_info": {
   "codemirror_mode": {
    "name": "ipython",
    "version": 3
   },
   "file_extension": ".py",
   "mimetype": "text/x-python",
   "name": "python",
   "nbconvert_exporter": "python",
   "pygments_lexer": "ipython3",
   "version": "3.8.8"
  }
 },
 "nbformat": 4,
 "nbformat_minor": 4
}
