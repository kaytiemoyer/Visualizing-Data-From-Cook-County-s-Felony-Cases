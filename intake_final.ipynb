{
 "cells": [
  {
   "cell_type": "code",
   "execution_count": 1,
   "metadata": {},
   "outputs": [],
   "source": [
    "#Visualizing Data from Cook County's Felony Cases\n",
    "#Author: Kaytie Moyer \n",
    "#Date: 10/1/2021\n",
    "#Description: Using intake data from Cook County's felony cases to determine if there is a correlation between the \n",
    "#crimes committed the most and gender or ethnicity. We will also look at possible correlations between the results of reviewed cases\n",
    "#and gender or ethnicity. "
   ]
  },
  {
   "cell_type": "code",
   "execution_count": 2,
   "metadata": {},
   "outputs": [],
   "source": [
    "#import libraries\n",
    "\n",
    "import numpy as np\n",
    "import pandas as pd\n",
    "import matplotlib as mpl\n",
    "import matplotlib.pyplot as plt\n",
    "import matplotlib.image as mpimg\n",
    "import seaborn as sns"
   ]
  },
  {
   "cell_type": "code",
   "execution_count": 3,
   "metadata": {},
   "outputs": [],
   "source": [
    "#import data\n",
    "\n",
    "df = pd.read_csv('C:/Users/Kaytie/Desktop/School/Regis University/Fall 2021/MSDS 670/Intake.csv')"
   ]
  },
  {
   "cell_type": "code",
   "execution_count": 4,
   "metadata": {},
   "outputs": [
    {
     "data": {
      "text/html": [
       "<div>\n",
       "<style scoped>\n",
       "    .dataframe tbody tr th:only-of-type {\n",
       "        vertical-align: middle;\n",
       "    }\n",
       "\n",
       "    .dataframe tbody tr th {\n",
       "        vertical-align: top;\n",
       "    }\n",
       "\n",
       "    .dataframe thead th {\n",
       "        text-align: right;\n",
       "    }\n",
       "</style>\n",
       "<table border=\"1\" class=\"dataframe\">\n",
       "  <thead>\n",
       "    <tr style=\"text-align: right;\">\n",
       "      <th></th>\n",
       "      <th>OFFENSE_CATEGORY</th>\n",
       "      <th>AGE_AT_INCIDENT</th>\n",
       "      <th>RACE</th>\n",
       "      <th>GENDER</th>\n",
       "      <th>LAW_ENFORCEMENT_AGENCY</th>\n",
       "      <th>FELONY_REVIEW_RESULT</th>\n",
       "      <th>UPDATE_OFFENSE_CATEGORY</th>\n",
       "    </tr>\n",
       "  </thead>\n",
       "  <tbody>\n",
       "    <tr>\n",
       "      <th>0</th>\n",
       "      <td>PROMIS Conversion</td>\n",
       "      <td>25.0</td>\n",
       "      <td>Black</td>\n",
       "      <td>Male</td>\n",
       "      <td>PROMIS Data Conversion</td>\n",
       "      <td>Approved</td>\n",
       "      <td>Homicide</td>\n",
       "    </tr>\n",
       "    <tr>\n",
       "      <th>1</th>\n",
       "      <td>PROMIS Conversion</td>\n",
       "      <td>22.0</td>\n",
       "      <td>Black</td>\n",
       "      <td>Male</td>\n",
       "      <td>PROMIS Data Conversion</td>\n",
       "      <td>Approved</td>\n",
       "      <td>Homicide</td>\n",
       "    </tr>\n",
       "    <tr>\n",
       "      <th>2</th>\n",
       "      <td>PROMIS Conversion</td>\n",
       "      <td>19.0</td>\n",
       "      <td>Black</td>\n",
       "      <td>Male</td>\n",
       "      <td>PROMIS Data Conversion</td>\n",
       "      <td>Approved</td>\n",
       "      <td>Homicide</td>\n",
       "    </tr>\n",
       "    <tr>\n",
       "      <th>3</th>\n",
       "      <td>PROMIS Conversion</td>\n",
       "      <td>NaN</td>\n",
       "      <td>Black</td>\n",
       "      <td>Male</td>\n",
       "      <td>CPD SPEC INV-YOUTH</td>\n",
       "      <td>Charge(S) Approved</td>\n",
       "      <td>Attempt Homicide</td>\n",
       "    </tr>\n",
       "    <tr>\n",
       "      <th>4</th>\n",
       "      <td>PROMIS Conversion</td>\n",
       "      <td>37.0</td>\n",
       "      <td>Hispanic</td>\n",
       "      <td>Male</td>\n",
       "      <td>SPEC. OPERATIONS</td>\n",
       "      <td>NaN</td>\n",
       "      <td>Narcotics</td>\n",
       "    </tr>\n",
       "  </tbody>\n",
       "</table>\n",
       "</div>"
      ],
      "text/plain": [
       "    OFFENSE_CATEGORY  AGE_AT_INCIDENT      RACE GENDER  \\\n",
       "0  PROMIS Conversion             25.0     Black   Male   \n",
       "1  PROMIS Conversion             22.0     Black   Male   \n",
       "2  PROMIS Conversion             19.0     Black   Male   \n",
       "3  PROMIS Conversion              NaN     Black   Male   \n",
       "4  PROMIS Conversion             37.0  Hispanic   Male   \n",
       "\n",
       "   LAW_ENFORCEMENT_AGENCY FELONY_REVIEW_RESULT UPDATE_OFFENSE_CATEGORY  \n",
       "0  PROMIS Data Conversion             Approved                Homicide  \n",
       "1  PROMIS Data Conversion             Approved                Homicide  \n",
       "2  PROMIS Data Conversion             Approved                Homicide  \n",
       "3      CPD SPEC INV-YOUTH   Charge(S) Approved        Attempt Homicide  \n",
       "4        SPEC. OPERATIONS                  NaN               Narcotics  "
      ]
     },
     "execution_count": 4,
     "metadata": {},
     "output_type": "execute_result"
    }
   ],
   "source": [
    "#dropping unnecessary columns\n",
    "\n",
    "to_drop = ['CASE_ID','CASE_PARTICIPANT_ID','RECEIVED_DATE','PARTICIPANT_STATUS','INCIDENT_CITY','INCIDENT_BEGIN_DATE',\n",
    "           'INCIDENT_END_DATE','LAW_ENFORCEMENT_UNIT','ARREST_DATE','FELONY_REVIEW_DATE']\n",
    "df.drop(to_drop, inplace = True, axis = 1)\n",
    "df.head(5)"
   ]
  },
  {
   "cell_type": "code",
   "execution_count": 5,
   "metadata": {},
   "outputs": [
    {
     "data": {
      "text/html": [
       "<div>\n",
       "<style scoped>\n",
       "    .dataframe tbody tr th:only-of-type {\n",
       "        vertical-align: middle;\n",
       "    }\n",
       "\n",
       "    .dataframe tbody tr th {\n",
       "        vertical-align: top;\n",
       "    }\n",
       "\n",
       "    .dataframe thead th {\n",
       "        text-align: right;\n",
       "    }\n",
       "</style>\n",
       "<table border=\"1\" class=\"dataframe\">\n",
       "  <thead>\n",
       "    <tr style=\"text-align: right;\">\n",
       "      <th></th>\n",
       "      <th>Offense</th>\n",
       "      <th>Age</th>\n",
       "      <th>Ethnicity</th>\n",
       "      <th>Gender</th>\n",
       "      <th>Agency</th>\n",
       "      <th>Review Result</th>\n",
       "      <th>Offense Update</th>\n",
       "    </tr>\n",
       "  </thead>\n",
       "  <tbody>\n",
       "    <tr>\n",
       "      <th>0</th>\n",
       "      <td>PROMIS Conversion</td>\n",
       "      <td>25.0</td>\n",
       "      <td>Black</td>\n",
       "      <td>Male</td>\n",
       "      <td>PROMIS Data Conversion</td>\n",
       "      <td>Approved</td>\n",
       "      <td>Homicide</td>\n",
       "    </tr>\n",
       "    <tr>\n",
       "      <th>1</th>\n",
       "      <td>PROMIS Conversion</td>\n",
       "      <td>22.0</td>\n",
       "      <td>Black</td>\n",
       "      <td>Male</td>\n",
       "      <td>PROMIS Data Conversion</td>\n",
       "      <td>Approved</td>\n",
       "      <td>Homicide</td>\n",
       "    </tr>\n",
       "    <tr>\n",
       "      <th>2</th>\n",
       "      <td>PROMIS Conversion</td>\n",
       "      <td>19.0</td>\n",
       "      <td>Black</td>\n",
       "      <td>Male</td>\n",
       "      <td>PROMIS Data Conversion</td>\n",
       "      <td>Approved</td>\n",
       "      <td>Homicide</td>\n",
       "    </tr>\n",
       "    <tr>\n",
       "      <th>3</th>\n",
       "      <td>PROMIS Conversion</td>\n",
       "      <td>NaN</td>\n",
       "      <td>Black</td>\n",
       "      <td>Male</td>\n",
       "      <td>CPD SPEC INV-YOUTH</td>\n",
       "      <td>Charge(S) Approved</td>\n",
       "      <td>Attempt Homicide</td>\n",
       "    </tr>\n",
       "    <tr>\n",
       "      <th>4</th>\n",
       "      <td>PROMIS Conversion</td>\n",
       "      <td>37.0</td>\n",
       "      <td>Hispanic</td>\n",
       "      <td>Male</td>\n",
       "      <td>SPEC. OPERATIONS</td>\n",
       "      <td>NaN</td>\n",
       "      <td>Narcotics</td>\n",
       "    </tr>\n",
       "  </tbody>\n",
       "</table>\n",
       "</div>"
      ],
      "text/plain": [
       "             Offense   Age Ethnicity Gender                  Agency  \\\n",
       "0  PROMIS Conversion  25.0     Black   Male  PROMIS Data Conversion   \n",
       "1  PROMIS Conversion  22.0     Black   Male  PROMIS Data Conversion   \n",
       "2  PROMIS Conversion  19.0     Black   Male  PROMIS Data Conversion   \n",
       "3  PROMIS Conversion   NaN     Black   Male      CPD SPEC INV-YOUTH   \n",
       "4  PROMIS Conversion  37.0  Hispanic   Male        SPEC. OPERATIONS   \n",
       "\n",
       "        Review Result    Offense Update  \n",
       "0            Approved          Homicide  \n",
       "1            Approved          Homicide  \n",
       "2            Approved          Homicide  \n",
       "3  Charge(S) Approved  Attempt Homicide  \n",
       "4                 NaN         Narcotics  "
      ]
     },
     "execution_count": 5,
     "metadata": {},
     "output_type": "execute_result"
    }
   ],
   "source": [
    "#changing column names for readability \n",
    "\n",
    "new_name = {'OFFENSE_CATEGORY': 'Offense',\n",
    "           'AGE_AT_INCIDENT': 'Age',\n",
    "           'RACE': 'Ethnicity',\n",
    "           'GENDER': 'Gender',\n",
    "           'LAW_ENFORCEMENT_AGENCY': 'Agency',\n",
    "           'FELONY_REVIEW_RESULT': 'Review Result',\n",
    "           'UPDATE_OFFENSE_CATEGORY': 'Offense Update'}\n",
    "df.rename(columns=new_name, inplace = True)\n",
    "df.head()"
   ]
  },
  {
   "cell_type": "code",
   "execution_count": 6,
   "metadata": {},
   "outputs": [
    {
     "data": {
      "text/plain": [
       "Index(['Offense', 'Age', 'Ethnicity', 'Gender', 'Agency', 'Review Result',\n",
       "       'Offense Update'],\n",
       "      dtype='object')"
      ]
     },
     "execution_count": 6,
     "metadata": {},
     "output_type": "execute_result"
    }
   ],
   "source": [
    "#checking column names\n",
    "\n",
    "df.columns"
   ]
  },
  {
   "cell_type": "code",
   "execution_count": 7,
   "metadata": {},
   "outputs": [],
   "source": [
    "#making a copy of the data to manipulate\n",
    "\n",
    "df2 = df.copy()"
   ]
  },
  {
   "cell_type": "code",
   "execution_count": 8,
   "metadata": {},
   "outputs": [],
   "source": [
    "#dropping N/A values\n",
    "\n",
    "df2.dropna(inplace=True)"
   ]
  },
  {
   "cell_type": "code",
   "execution_count": 9,
   "metadata": {},
   "outputs": [
    {
     "data": {
      "text/plain": [
       "UUW - Unlawful Use of Weapon                 40151\n",
       "Retail Theft                                 28943\n",
       "Burglary                                     14742\n",
       "Aggravated DUI                               14692\n",
       "Driving With Suspended Or Revoked License    10565\n",
       "                                             ...  \n",
       "Violate Bail Bond                               19\n",
       "Perjury                                         18\n",
       "Failure To Pay Child Support                    11\n",
       "Possession of Explosives                         6\n",
       "PROMIS Conversion                                4\n",
       "Name: Offense, Length: 86, dtype: int64"
      ]
     },
     "execution_count": 9,
     "metadata": {},
     "output_type": "execute_result"
    }
   ],
   "source": [
    "#checking value counts \n",
    "\n",
    "df2['Offense'].value_counts()"
   ]
  },
  {
   "cell_type": "code",
   "execution_count": 10,
   "metadata": {},
   "outputs": [
    {
     "data": {
      "text/plain": [
       "Offense       Age    Ethnicity  Gender  Agency              Review Result  Offense Update\n",
       "Retail Theft  46.0   Black      Male    CHICAGO PD          Approved       Retail Theft      277\n",
       "              45.0   Black      Male    CHICAGO PD          Approved       Retail Theft      244\n",
       "              48.0   Black      Male    CHICAGO PD          Approved       Retail Theft      232\n",
       "              47.0   Black      Male    CHICAGO PD          Approved       Retail Theft      232\n",
       "              44.0   Black      Male    CHICAGO PD          Approved       Retail Theft      228\n",
       "                                                                                            ... \n",
       "Narcotics     21.0   White      Male    NORTH RIVERSIDE PD  Approved       Narcotics           1\n",
       "                                        NORTHLAKE PD        Approved       Narcotics           1\n",
       "                                        RIVER FOREST PD     Approved       Narcotics           1\n",
       "                                        STONE PARK PD       Approved       Narcotics           1\n",
       "Retail Theft  127.0  Black      Female  CHICAGO PD          Approved       Retail Theft        1\n",
       "Length: 15870, dtype: int64"
      ]
     },
     "execution_count": 10,
     "metadata": {},
     "output_type": "execute_result"
    }
   ],
   "source": [
    "#creating the dataframe for highest felonies committed\n",
    "\n",
    "df_o = df[(df['Offense'] == 'Burglary') | (df['Offense'] == 'Retail Theft') | \n",
    "          (df['Offense'] == 'Narcotics') | (df['Offense'] == 'Homicide')].copy()\n",
    "df_o.value_counts()"
   ]
  },
  {
   "cell_type": "code",
   "execution_count": 11,
   "metadata": {},
   "outputs": [
    {
     "data": {
      "text/plain": [
       "Black                               147806\n",
       "White [Hispanic or Latino]           35920\n",
       "White                                33405\n",
       "Hispanic                              8996\n",
       "Asian                                 1678\n",
       "White/Black [Hispanic or Latino]      1098\n",
       "Unknown                                453\n",
       "American Indian                        125\n",
       "Biracial                                61\n",
       "ASIAN                                    8\n",
       "Albino                                   1\n",
       "CAUCASIAN                                1\n",
       "Name: Ethnicity, dtype: int64"
      ]
     },
     "execution_count": 11,
     "metadata": {},
     "output_type": "execute_result"
    }
   ],
   "source": [
    "#checking value counts for ethnicity \n",
    "\n",
    "df2['Ethnicity'].value_counts()"
   ]
  },
  {
   "cell_type": "code",
   "execution_count": 12,
   "metadata": {},
   "outputs": [
    {
     "data": {
      "text/plain": [
       "Offense                                 Age   Ethnicity  Gender  Agency              Review Result               Offense Update                       \n",
       "UUW - Unlawful Use of Weapon            22.0  Black      Male    CHICAGO PD          Approved                    UUW - Unlawful Use of Weapon             1534\n",
       "                                        20.0  Black      Male    CHICAGO PD          Approved                    UUW - Unlawful Use of Weapon             1520\n",
       "                                        19.0  Black      Male    CHICAGO PD          Approved                    UUW - Unlawful Use of Weapon             1473\n",
       "                                        21.0  Black      Male    CHICAGO PD          Approved                    UUW - Unlawful Use of Weapon             1464\n",
       "                                        24.0  Black      Male    CHICAGO PD          Approved                    UUW - Unlawful Use of Weapon             1416\n",
       "                                                                                                                                                          ... \n",
       "Domestic Battery                        38.0  Black      Male    ELGIN PD            Continued Investigation     Domestic Battery                            1\n",
       "                                                                 EVANSTON PD         Victim Sensitive Interview  Domestic Battery                            1\n",
       "                                                                 HOFFMAN ESTATES PD  Rejected                    Domestic Battery                            1\n",
       "                                                                 OAK LAWN PD         Advice                      Domestic Battery                            1\n",
       "Violation of Sex Offender Registration  76.0  Black      Male    CHICAGO PD          Approved                    Failure to Register as a Sex Offender       1\n",
       "Length: 75507, dtype: int64"
      ]
     },
     "execution_count": 12,
     "metadata": {},
     "output_type": "execute_result"
    }
   ],
   "source": [
    "#creating the dataframe for ethnicity\n",
    "\n",
    "df_e = df[(df['Ethnicity'] == 'Black') | (df['Ethnicity'] == 'White') | (df['Ethnicity'] == 'Hispanic') | \n",
    "          (df['Ethnicity'] == 'Asian') | (df['Ethnicity'] == 'American Indian')].copy()\n",
    "df_e.value_counts()"
   ]
  },
  {
   "cell_type": "code",
   "execution_count": 13,
   "metadata": {},
   "outputs": [
    {
     "data": {
      "text/plain": [
       "Approved                                      187206\n",
       "Rejected                                       26395\n",
       "Continued Investigation                        10976\n",
       "Felony Review                                   2844\n",
       "Victim Sensitive Interview                       988\n",
       "Advice                                           529\n",
       "Disregard                                        432\n",
       "Warr Ord Warr Issued                              40\n",
       "Arrest Warrant                                    39\n",
       "VICTIM SENSITIVE INT                              28\n",
       "Warrant Exec                                      21\n",
       "Deputy Override                                   21\n",
       "Search Warrant                                    16\n",
       "Chief Judge Assignment To Felony Courtroom        10\n",
       "Screen Felony                                      6\n",
       "Charge(S) Approved                                 1\n",
       "Name: Review Result, dtype: int64"
      ]
     },
     "execution_count": 13,
     "metadata": {},
     "output_type": "execute_result"
    }
   ],
   "source": [
    "#checking value counts for review results\n",
    "\n",
    "df2['Review Result'].value_counts()"
   ]
  },
  {
   "cell_type": "code",
   "execution_count": 14,
   "metadata": {},
   "outputs": [
    {
     "data": {
      "text/plain": [
       "Offense                                 Age   Ethnicity  Gender  Agency          Review Result  Offense Update                       \n",
       "UUW - Unlawful Use of Weapon            22.0  Black      Male    CHICAGO PD      Approved       UUW - Unlawful Use of Weapon             1534\n",
       "                                        20.0  Black      Male    CHICAGO PD      Approved       UUW - Unlawful Use of Weapon             1520\n",
       "                                        19.0  Black      Male    CHICAGO PD      Approved       UUW - Unlawful Use of Weapon             1473\n",
       "                                        21.0  Black      Male    CHICAGO PD      Approved       UUW - Unlawful Use of Weapon             1464\n",
       "                                        24.0  Black      Male    CHICAGO PD      Approved       UUW - Unlawful Use of Weapon             1416\n",
       "                                                                                                                                         ... \n",
       "Domestic Battery                        28.0  Black      Male    BROADVIEW PD    Rejected       Domestic Battery                            1\n",
       "                                                                 BLUE ISLAND PD  Approved       Domestic Battery                            1\n",
       "                                                                 BERWYN PD       Approved       Attempt Armed Robbery                       1\n",
       "                                                                 BELLWOOD PD     Approved       Home Invasion                               1\n",
       "Violation of Sex Offender Registration  76.0  Black      Male    CHICAGO PD      Approved       Failure to Register as a Sex Offender       1\n",
       "Length: 87062, dtype: int64"
      ]
     },
     "execution_count": 14,
     "metadata": {},
     "output_type": "execute_result"
    }
   ],
   "source": [
    "#creating the dataframe for highest counts of review results\n",
    "\n",
    "df_rr = df[(df['Review Result'] == 'Approved') | (df['Review Result'] == 'Rejected') | \n",
    "           (df['Review Result'] == 'Continued Investigation')].copy()\n",
    "df_rr.value_counts()"
   ]
  },
  {
   "cell_type": "code",
   "execution_count": 15,
   "metadata": {},
   "outputs": [],
   "source": [
    "#Grouping the offenses committed by reported gender\n",
    "\n",
    "go = df_o.groupby(['Gender']).count()['Offense'].sort_values()"
   ]
  },
  {
   "cell_type": "code",
   "execution_count": 16,
   "metadata": {},
   "outputs": [],
   "source": [
    "#grouping Ethnicity and Offense\n",
    "\n",
    "eo = df2.groupby(['Ethnicity','Offense'])"
   ]
  },
  {
   "cell_type": "code",
   "execution_count": 17,
   "metadata": {},
   "outputs": [
    {
     "data": {
      "text/html": [
       "<div>\n",
       "<style scoped>\n",
       "    .dataframe tbody tr th:only-of-type {\n",
       "        vertical-align: middle;\n",
       "    }\n",
       "\n",
       "    .dataframe tbody tr th {\n",
       "        vertical-align: top;\n",
       "    }\n",
       "\n",
       "    .dataframe thead th {\n",
       "        text-align: right;\n",
       "    }\n",
       "</style>\n",
       "<table border=\"1\" class=\"dataframe\">\n",
       "  <thead>\n",
       "    <tr style=\"text-align: right;\">\n",
       "      <th>Gender</th>\n",
       "      <th>Female</th>\n",
       "      <th>Male</th>\n",
       "      <th>Male name, no gender given</th>\n",
       "      <th>Unknown</th>\n",
       "    </tr>\n",
       "    <tr>\n",
       "      <th>Offense</th>\n",
       "      <th></th>\n",
       "      <th></th>\n",
       "      <th></th>\n",
       "      <th></th>\n",
       "    </tr>\n",
       "  </thead>\n",
       "  <tbody>\n",
       "    <tr>\n",
       "      <th>Burglary</th>\n",
       "      <td>882</td>\n",
       "      <td>13858</td>\n",
       "      <td>0</td>\n",
       "      <td>2</td>\n",
       "    </tr>\n",
       "    <tr>\n",
       "      <th>Homicide</th>\n",
       "      <td>338</td>\n",
       "      <td>3879</td>\n",
       "      <td>0</td>\n",
       "      <td>0</td>\n",
       "    </tr>\n",
       "    <tr>\n",
       "      <th>Narcotics</th>\n",
       "      <td>199</td>\n",
       "      <td>1093</td>\n",
       "      <td>1</td>\n",
       "      <td>0</td>\n",
       "    </tr>\n",
       "    <tr>\n",
       "      <th>Retail Theft</th>\n",
       "      <td>8247</td>\n",
       "      <td>20692</td>\n",
       "      <td>3</td>\n",
       "      <td>1</td>\n",
       "    </tr>\n",
       "  </tbody>\n",
       "</table>\n",
       "</div>"
      ],
      "text/plain": [
       "Gender        Female   Male  Male name, no gender given  Unknown\n",
       "Offense                                                         \n",
       "Burglary         882  13858                           0        2\n",
       "Homicide         338   3879                           0        0\n",
       "Narcotics        199   1093                           1        0\n",
       "Retail Theft    8247  20692                           3        1"
      ]
     },
     "execution_count": 17,
     "metadata": {},
     "output_type": "execute_result"
    }
   ],
   "source": [
    "#creating a crosstab for Offenses and Gender\n",
    "\n",
    "g_offense = pd.crosstab(index = df_o['Offense'],\n",
    "                          columns = df2['Gender'])\n",
    "g_offense"
   ]
  },
  {
   "cell_type": "code",
   "execution_count": 18,
   "metadata": {},
   "outputs": [
    {
     "data": {
      "image/png": "[encoded data removed]",
      "text/plain": [
       "<Figure size 720x864 with 1 Axes>"
      ]
     },
     "metadata": {
      "needs_background": "light"
     },
     "output_type": "display_data"
    }
   ],
   "source": [
    "#Visualizing the number of highest reported felonies grouped by gender\n",
    "\n",
    "ax1 = g_offense.plot(kind = 'barh', figsize = (10,12), zorder = 2, width = 1.5)\n",
    "    \n",
    "ax1.set_title('The Highest Reported Felonies by Gender', weight = 'bold', size = 14)\n",
    "ax1.set_ylabel('Crime', weight = 'bold')\n",
    "ax1.xaxis.set_major_formatter(mpl.ticker.StrMethodFormatter('{x:,.0f}'))"
   ]
  },
  {
   "cell_type": "code",
   "execution_count": 19,
   "metadata": {},
   "outputs": [
    {
     "data": {
      "text/html": [
       "<div>\n",
       "<style scoped>\n",
       "    .dataframe tbody tr th:only-of-type {\n",
       "        vertical-align: middle;\n",
       "    }\n",
       "\n",
       "    .dataframe tbody tr th {\n",
       "        vertical-align: top;\n",
       "    }\n",
       "\n",
       "    .dataframe thead th {\n",
       "        text-align: right;\n",
       "    }\n",
       "</style>\n",
       "<table border=\"1\" class=\"dataframe\">\n",
       "  <thead>\n",
       "    <tr style=\"text-align: right;\">\n",
       "      <th>Ethnicity</th>\n",
       "      <th>American Indian</th>\n",
       "      <th>Asian</th>\n",
       "      <th>Black</th>\n",
       "      <th>Hispanic</th>\n",
       "      <th>White</th>\n",
       "    </tr>\n",
       "    <tr>\n",
       "      <th>Offense</th>\n",
       "      <th></th>\n",
       "      <th></th>\n",
       "      <th></th>\n",
       "      <th></th>\n",
       "      <th></th>\n",
       "    </tr>\n",
       "  </thead>\n",
       "  <tbody>\n",
       "    <tr>\n",
       "      <th>Burglary</th>\n",
       "      <td>14</td>\n",
       "      <td>118</td>\n",
       "      <td>9487</td>\n",
       "      <td>301</td>\n",
       "      <td>3318</td>\n",
       "    </tr>\n",
       "    <tr>\n",
       "      <th>Homicide</th>\n",
       "      <td>4</td>\n",
       "      <td>20</td>\n",
       "      <td>3738</td>\n",
       "      <td>138</td>\n",
       "      <td>303</td>\n",
       "    </tr>\n",
       "    <tr>\n",
       "      <th>Narcotics</th>\n",
       "      <td>49</td>\n",
       "      <td>932</td>\n",
       "      <td>113464</td>\n",
       "      <td>599</td>\n",
       "      <td>24432</td>\n",
       "    </tr>\n",
       "    <tr>\n",
       "      <th>Retail Theft</th>\n",
       "      <td>28</td>\n",
       "      <td>305</td>\n",
       "      <td>20597</td>\n",
       "      <td>1104</td>\n",
       "      <td>6081</td>\n",
       "    </tr>\n",
       "  </tbody>\n",
       "</table>\n",
       "</div>"
      ],
      "text/plain": [
       "Ethnicity     American Indian  Asian   Black  Hispanic  White\n",
       "Offense                                                      \n",
       "Burglary                   14    118    9487       301   3318\n",
       "Homicide                    4     20    3738       138    303\n",
       "Narcotics                  49    932  113464       599  24432\n",
       "Retail Theft               28    305   20597      1104   6081"
      ]
     },
     "execution_count": 19,
     "metadata": {},
     "output_type": "execute_result"
    }
   ],
   "source": [
    "#creating a crosstab for Offense and Ethnicity\n",
    "\n",
    "o_e = pd.crosstab(index = df_o['Offense'],\n",
    "                          columns = df_e['Ethnicity'])\n",
    "o_e"
   ]
  },
  {
   "cell_type": "code",
   "execution_count": 20,
   "metadata": {},
   "outputs": [
    {
     "data": {
      "image/png": "[encoded data removed]",
      "text/plain": [
       "<Figure size 576x720 with 1 Axes>"
      ]
     },
     "metadata": {
      "needs_background": "light"
     },
     "output_type": "display_data"
    }
   ],
   "source": [
    "#Visualizing the data for the top number of felonies committed by ethnic group\n",
    "#as a stacked bar chart\n",
    "\n",
    "ax2 = o_e.plot(kind = 'bar', figsize = (8,10), width = 0.8, stacked= True)\n",
    "\n",
    "ax2.set_ylabel('Crime Count', weight = 'bold')\n",
    "ax2.set_xlabel('Crime', weight = 'bold')\n",
    "ax2.yaxis.set_major_formatter(mpl.ticker.StrMethodFormatter('{x:,.0f}'))"
   ]
  },
  {
   "cell_type": "code",
   "execution_count": 21,
   "metadata": {},
   "outputs": [],
   "source": [
    "#creating value counts for Review Results from the intake cases\n",
    "\n",
    "rr = df_rr['Review Result'].value_counts()"
   ]
  },
  {
   "cell_type": "code",
   "execution_count": 22,
   "metadata": {},
   "outputs": [
    {
     "data": {
      "image/png": "[encoded data removed]",
      "text/plain": [
       "<Figure size 720x864 with 1 Axes>"
      ]
     },
     "metadata": {
      "needs_background": "light"
     },
     "output_type": "display_data"
    }
   ],
   "source": [
    "#visualizing the results of case reviewal from Cook County\n",
    "#as a horizontal bar chart\n",
    "\n",
    "fig, ax = plt.subplots(figsize = (10,10))\n",
    "\n",
    "rr.plot(kind = 'barh', figsize = (10,12), zorder = 2, width = 0.8)\n",
    "    \n",
    "ax.set_title('The Results of Reviewal Cases', weight = 'bold', size = 14)\n",
    "ax.set_ylabel('Case Result', weight = 'bold')\n",
    "ax.set_xlabel('Case Count', weight = 'bold')\n",
    "ax.xaxis.set_major_formatter(mpl.ticker.StrMethodFormatter('{x:,.0f}'))"
   ]
  },
  {
   "cell_type": "code",
   "execution_count": 23,
   "metadata": {},
   "outputs": [
    {
     "data": {
      "text/plain": [
       "Male                          198719\n",
       "Female                         30801\n",
       "Unknown                           21\n",
       "Male name, no gender given        11\n",
       "Name: Gender, dtype: int64"
      ]
     },
     "execution_count": 23,
     "metadata": {},
     "output_type": "execute_result"
    }
   ],
   "source": [
    "#formatting the dataframe for a total count of felonies grouped by gender\n",
    "\n",
    "g3 = df2['Gender'].value_counts().sort_values(ascending=False)\n",
    "g3.head(4)"
   ]
  },
  {
   "cell_type": "code",
   "execution_count": 24,
   "metadata": {},
   "outputs": [
    {
     "data": {
      "image/png": "[encoded data removed]",
      "text/plain": [
       "<Figure size 720x864 with 1 Axes>"
      ]
     },
     "metadata": {
      "needs_background": "light"
     },
     "output_type": "display_data"
    }
   ],
   "source": [
    "#visualizing the total count of felonies grouped by gender as a horizontal bar chart\n",
    "\n",
    "fig, ax = plt.subplots(figsize = (10,10))\n",
    "\n",
    "g3.plot(kind = 'barh', figsize = (10,12), zorder = 2, width = 0.9)\n",
    "    \n",
    "ax.set_title('The Total Count of Felonies committed by Gender', weight = 'bold', size = 14)\n",
    "ax.set_ylabel('Reported Gender', weight = 'bold')\n",
    "ax.xaxis.set_major_formatter(mpl.ticker.StrMethodFormatter('{x:,.0f}'))"
   ]
  },
  {
   "cell_type": "code",
   "execution_count": 25,
   "metadata": {},
   "outputs": [
    {
     "data": {
      "text/plain": [
       "Black       276552\n",
       "White        61802\n",
       "Hispanic     11016\n",
       "Asian         2888\n",
       "Name: Ethnicity, dtype: int64"
      ]
     },
     "execution_count": 25,
     "metadata": {},
     "output_type": "execute_result"
    }
   ],
   "source": [
    "#formatting the dataframe for a total count of felonies committed by ethnic group\n",
    "\n",
    "ef = df_e['Ethnicity'].value_counts()\n",
    "ef.head(4)"
   ]
  },
  {
   "cell_type": "code",
   "execution_count": 26,
   "metadata": {},
   "outputs": [
    {
     "data": {
      "image/png": "[encoded data removed]",
      "text/plain": [
       "<Figure size 720x864 with 1 Axes>"
      ]
     },
     "metadata": {
      "needs_background": "light"
     },
     "output_type": "display_data"
    }
   ],
   "source": [
    "fig, ax = plt.subplots(figsize = (10,10))\n",
    "ef.plot(kind = 'barh', figsize = (10,12), zorder = 2, width = 0.9)\n",
    "    \n",
    "ax.set_title('The Total Count of Felonies committed by Ethnic Group', weight = 'bold', size = 14)\n",
    "ax.set_ylabel('Ethnicity', weight = 'bold')\n",
    "ax.xaxis.set_major_formatter(mpl.ticker.StrMethodFormatter('{x:,.0f}'))"
   ]
  },
  {
   "cell_type": "code",
   "execution_count": null,
   "metadata": {},
   "outputs": [],
   "source": []
  }
 ],
 "metadata": {
  "kernelspec": {
   "display_name": "Python 3",
   "language": "python",
   "name": "python3"
  },
  "language_info": {
   "codemirror_mode": {
    "name": "ipython",
    "version": 3
   },
   "file_extension": ".py",
   "mimetype": "text/x-python",
   "name": "python",
   "nbconvert_exporter": "python",
   "pygments_lexer": "ipython3",
   "version": "3.8.8"
  }
 },
 "nbformat": 4,
 "nbformat_minor": 4
}
